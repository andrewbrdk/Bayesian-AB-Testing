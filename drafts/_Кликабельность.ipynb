{
 "cells": [
  {
   "cell_type": "markdown",
   "id": "06984b56",
   "metadata": {},
   "source": [
    "# Кликабельность\n",
    "\n",
    "Кликабельность - отношение кликов к показам.\n",
    "Используется для баннеров.\n",
    "\n",
    "Таблица вида id-показы-клики\n",
    "\n",
    "\n",
    "|id| показы | клики\n",
    "|- | ------ | -\n",
    "|a | 10     | 2\n",
    "|b | 5      | 0\n",
    "|...|...|...\n",
    "\n",
    "\n",
    "Показы на пользователя распределены по степенному закону (Ципфа, дискретизация Парето).  \n",
    "Маржинальное распределение кликов близко экспоненциальному.  \n",
    "Для каждого количества показов $N$ распределение кликов $P(c|N)$ близко экспоненциальному.  \n",
    "\n",
    "\n",
    "Для моделирования удобнее произведение мультиномиальных распределений.\n",
    "\n",
    "$$\n",
    "P(c, N | p_{N,c}) = Mult(N | p_1, \\dots, p_{maxN}) Mult(c | p_{1,N}, \\dots, p_{maxC,N})\n",
    "$$"
   ]
  },
  {
   "cell_type": "code",
   "execution_count": null,
   "id": "9279db2e",
   "metadata": {},
   "outputs": [],
   "source": []
  },
  {
   "cell_type": "markdown",
   "id": "b6e1d466",
   "metadata": {},
   "source": []
  },
  {
   "cell_type": "code",
   "execution_count": null,
   "id": "3a5340b1",
   "metadata": {},
   "outputs": [],
   "source": []
  },
  {
   "cell_type": "code",
   "execution_count": null,
   "id": "493db6c9",
   "metadata": {},
   "outputs": [],
   "source": [
    "import numpy as np\n",
    "from scipy import stats\n",
    "\n",
    "pa = 7.1\n",
    "sa = 0.1\n",
    "print(pa, '±', 2*sa)\n",
    "pb = 7.4\n",
    "sb = 0.15\n",
    "print(pb, '±', 2*sb)\n",
    "\n",
    "prel = (pb - pa) / pa\n",
    "srel = prel * np.sqrt((sa/pa)**2 + (sb/pb)**2)\n",
    "\n",
    "prel, srel, 2 * srel\n",
    "print(f'{prel*100:.1f} ± {2*srel*100:.1f}')\n",
    "\n",
    "pd = pb - pa\n",
    "sd = np.sqrt(sa**2 + sb**2)\n",
    "print(f'{pd:.2f} ± {2*sd:.2f}')\n",
    "stats.norm(loc=pd, scale=sd).cdf(0), 1 - stats.norm(loc=pd, scale=sd).cdf(0)"
   ]
  },
  {
   "cell_type": "markdown",
   "id": "5244b725",
   "metadata": {},
   "source": []
  }
 ],
 "metadata": {
  "kernelspec": {
   "display_name": "Python 3 (ipykernel)",
   "language": "python",
   "name": "python3"
  },
  "language_info": {
   "codemirror_mode": {
    "name": "ipython",
    "version": 3
   },
   "file_extension": ".py",
   "mimetype": "text/x-python",
   "name": "python",
   "nbconvert_exporter": "python",
   "pygments_lexer": "ipython3",
   "version": "3.11.2"
  }
 },
 "nbformat": 4,
 "nbformat_minor": 5
}
