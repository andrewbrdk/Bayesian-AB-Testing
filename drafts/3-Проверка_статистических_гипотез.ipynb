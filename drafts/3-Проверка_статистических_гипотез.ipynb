{
 "cells": [
  {
   "cell_type": "markdown",
   "id": "e814208a",
   "metadata": {},
   "source": [
    "# Приложение: проверка статистических гипотез"
   ]
  },
  {
   "cell_type": "markdown",
   "id": "582819b8",
   "metadata": {},
   "source": [
    "*Описано, как в рамках метода проверок статистических гипотез для оценки А/Б-тестов предлагается отвечать на вопросы «Какой вариант лучше и насколько?», «Каковы оценки целевой метрики в каждом варианте?», «Насколько уверены в оценке?», «Сколько должен продолжаться эксперимент?». Обсуждены особенности предлагаемых ответов.*"
   ]
  },
  {
   "cell_type": "markdown",
   "id": "eaed11d5",
   "metadata": {},
   "source": [
    "* *[Введение](#Введение)*  \n",
    "* *[Проверка статистической гипотезы](#Проверка-статистической-гипотезы)*  \n",
    "* *[Сравнение средних в группах](#Сравнение-средних-в-группах)*\n",
    "* *[Особенности интерпретации](#Особенности-интерпретации)*\n",
    "* *[Заключение](#Заключение)*\n",
    "* *[Ссылки](#Ссылки)*"
   ]
  },
  {
   "cell_type": "markdown",
   "id": "5d096e59",
   "metadata": {},
   "source": [
    "# Введение"
   ]
  },
  {
   "cell_type": "markdown",
   "id": "23b75a3a",
   "metadata": {},
   "source": [
    "Для анализа А/Б-тестов используют метод проверки статистических гипотез [[StTest](https://en.wikipedia.org/wiki/Statistical_hypothesis_testing)]. Чаще всего в таком подходе предполагают, что между вариантами нет разницы, после чего смотрят, насколько такое предположение объясняет экспериментальные данные. Если вероятность получить данные мала, считают, что предположение можно отвергнуть и между группами есть значимая разница.  "
   ]
  },
  {
   "cell_type": "markdown",
   "id": "f9b3d373",
   "metadata": {},
   "source": [
    "Вначале описывается терминология и приводится пример проверки статистической гипотезы. Далее рассматривает сравнение средних двух распределений. Затем обсуждаются особенности интерпретации этого метода."
   ]
  },
  {
   "cell_type": "markdown",
   "id": "c9c44f58",
   "metadata": {},
   "source": [
    "# Проверка статистической гипотезы"
   ]
  },
  {
   "cell_type": "markdown",
   "id": "78009b5a",
   "metadata": {},
   "source": [
    "Есть экспериментальные данные $data$. Есть гипотеза $H$ об этих данных. Есть случайная величина $T$, распределение которой $P_{T}(x | H)$ в предположении $H$ известно - такие величины служат основой «статистических тестов». По фактическим данным считается «тестовая статистика»  $x_{data}$ [[TestStat](https://en.wikipedia.org/wiki/Test_statistic)]. Считается вероятность получить «фактическое или более экстремальное» значение «тестовой статистики». Эту вероятность называют «$p$-значением» [[PVal](https://en.wikipedia.org/wiki/P-value)]. В зависимости от контекста $p = P_{T}(x \\ge x_{data} | H)$, $p = P_{T}(x \\le x_{data} | H)$ или $p = P_{T}(|x - x_{data}| \\ge 0 | H)$ [[TailedTests](https://en.wikipedia.org/wiki/One-_and_two-tailed_tests)]. Если вероятность «достаточно мала», гипотезу $H$ «отвергают», если «не достаточно мала» - «принимают».  "
   ]
  },
  {
   "cell_type": "markdown",
   "id": "79594029",
   "metadata": {},
   "source": [
    "Обсуждение такого подхода приводится в разделе [«Особенности интерпретации»](#Особенности-интерпретации)."
   ]
  },
  {
   "cell_type": "markdown",
   "id": "37f1c080",
   "metadata": {},
   "source": [
    "В качестве примера можно рассмотреть проверку равенства вероятностей выпадения орла и решки по нескольким броскам монеты [[FairCoin](https://en.wikipedia.org/wiki/Checking_whether_a_coin_is_fair)]. Ситуация следующая:\n",
    "- данные: в 100 бросках монетки в 60 случаях выпал орел.  \n",
    "- гипотеза: вероятность выпадения орла 0.5   \n",
    "- случайная величина с известным распределением: вероятность $k$ успехов в $N$ попытках при вероятности $p$ успеха в одной попытке можно моделировать биномиальным распределением $Binom(p; k, N)$  \n",
    "- тестовая статистика: число успехов $k=60$ в общих попытках $N=100$\n",
    "- $p$-значение: вероятность получить 60 или больше успехов в 100 попытках $p = \\sum_{i \\ge 60}Binom(0.5; i, 100) = 1 - CDF_{Binom}(0.5; 59, 100)$\n",
    "- «достаточно малую» вероятность обычно выбирают на уровне 5%, т.е. если $p < 0.05$, то гипотезу $H$ считают неверной.  \n",
    "\n",
    "Ниже приведен график распределения тестовой статистики $Binom(0.5; k, 100)$, выделены «фактические или более экстремальные» значения $k$, проведены расчеты $p$-значения. $P$-значение оказывается равным 0.028. Это меньше 0.05, что дает основания считать гипотезу о вероятности выпадения орла 50\\% неверной.  "
   ]
  },
  {
   "cell_type": "code",
   "execution_count": null,
   "id": "a7debbcb",
   "metadata": {},
   "outputs": [],
   "source": [
    "import numpy as np\n",
    "import scipy.stats as stats\n",
    "import plotly.graph_objects as go\n",
    "\n",
    "np.random.seed(7)"
   ]
  },
  {
   "cell_type": "code",
   "execution_count": null,
   "id": "4639e777",
   "metadata": {},
   "outputs": [],
   "source": [
    "N = 100\n",
    "s = 60\n",
    "p = 0.5\n",
    "alpha = 0.05\n",
    "\n",
    "x = np.arange(0, N+1)\n",
    "y = stats.binom.pmf(p=p, k=x, n=N)\n",
    "col = ['blue' if x < s else 'red' for x in x]\n",
    "\n",
    "fig = go.Figure()\n",
    "fig.add_trace(go.Bar(x=x, y=y, marker_color=col))\n",
    "fig.update_layout(\n",
    "    title=f\"Probability of X heads in N={N} coin flips for a fair coin\",\n",
    "    height=450, width=800\n",
    ")\n",
    "fig.show()\n",
    "\n",
    "pval = 1 - stats.binom.cdf(p=p, k=s-1, n=N)\n",
    "print(f\"p value = P(s >= {s} | H) = {pval:.3f}\")\n",
    "print(f\"H {'can' if pval < alpha else 'can not'} be rejected\")"
   ]
  },
  {
   "cell_type": "markdown",
   "id": "6c1723c2",
   "metadata": {},
   "source": [
    "Даже если гипотеза верна, в эксперименте можно получить такие данные, что нужно принять решение об отклонении гипотезы. Вероятность получить данные по которым нужно принять решение «отвергнуть гипотезу» при условии, что гипотеза верна, называют вероятностью ошибки первого рода и обозначают $\\alpha$. Эту величину также называют «статистической значимостью». Величина $1-\\alpha$ характеризует вероятность принять корректное решение оставить гипотезу, при условии, что она верна. Вероятность получить данные, по которым нужно «принять гипотезу» при условии, что она не верна, называют вероятностью ошибки второго рода и обозначают $\\beta$. Величину $1-\\beta$ называют статистической мощностью [[StErrors](https://en.wikipedia.org/wiki/Type_I_and_type_II_errors), [StSign](https://en.wikipedia.org/wiki/Statistical_significance), [StPower](https://en.wikipedia.org/wiki/Power_of_a_test)]. "
   ]
  },
  {
   "cell_type": "markdown",
   "id": "2c3af9e1",
   "metadata": {},
   "source": [
    "\\begin{align}\n",
    "\\mbox{Статистическая значимость и ошибка первого рода: }& P(\\mbox{Решение отклонить }H | H) = \\alpha,\n",
    "\\\\\n",
    "\\mbox{Корректное решение оставить H: }& P(\\mbox{Решение принять }H | H) = 1 - \\alpha .\n",
    "\\\\\n",
    "\\\\\n",
    "\\mbox{Ошибка второго рода: }& P(\\mbox{Решение принять }H | \\neg H) = \\beta, \n",
    "\\\\\n",
    "\\mbox{Статистическая мощность: }& P(\\mbox{Решение отклонить }H | \\neg H) = 1 - \\beta .\n",
    "\\end{align}"
   ]
  },
  {
   "cell_type": "markdown",
   "id": "0a773500",
   "metadata": {},
   "source": [
    "Статистическая значимость и мощность не полностью определяют вероятность выполнения гипотезы $H$. Остается неизвестным, верна в реальности гипотеза $H$ или нет. Подробнее см. раздел [«Особенности интерпретации»](#Особенности-интерпретации)."
   ]
  },
  {
   "cell_type": "markdown",
   "id": "5f268565",
   "metadata": {},
   "source": [
    "# Сравнение средних в группах"
   ]
  },
  {
   "cell_type": "markdown",
   "id": "f630bb48",
   "metadata": {},
   "source": [
    "Метод проверки статистических гипотез применяется в А/Б-тестах для сравнения групп.  "
   ]
  },
  {
   "cell_type": "markdown",
   "id": "1e403e8e",
   "metadata": {},
   "source": [
    "Группы можно сравнивать по разным метриками. Ниже рассматривается сравнение средних.\n",
    "Т.е. по сэмлам из двух групп нужно оценить средние в распределениях и выбрать вариант с «лучшим» средним."
   ]
  },
  {
   "cell_type": "markdown",
   "id": "b8a6cc5d",
   "metadata": {},
   "source": [
    "Для сравнения групп смотрят на выборочные средние $\\mu_{A_n}$ и $\\mu_{B_n}$. Проверяют гипотезу, что группы не отличаются - нулевую гипотезу $H_0$ [[HNull](https://en.wikipedia.org/wiki/Null_hypothesis)]. У выборочных средних среднее совпадает со средним исходного распределения, стандартное отклонение определяется стандартной ошибкой среднего [[StdErr](https://en.wikipedia.org/wiki/Standard_error)]. Если выборка «достаточно большая», то в силу центральной предельной теоремы [[CLT](https://en.wikipedia.org/wiki/Central_limit_theorem)] их распределение приближенно можно считать нормальным. Ниже приведены соотношения для $\\mu_{A_n}$, для $\\mu_{B_n}$ соотношения аналогичные. Пусть $N_A$ - размер выборки в группе $A$, $A_i$ - $i$-ый элемент в выборке, $E[A]$ и $\\sigma_A$ точные средее и стандартное отклонение распределения $A$. Тогда\n",
    "\n",
    "$$\n",
    "\\mu_{A_n} = \\frac{1}{N_A} \\sum_i A_i,\n",
    "\\\\\n",
    "E[\\mu_{A_n}] = E[A],\n",
    "\\quad\n",
    "\\sigma_{\\mu_{A_n}} = \\frac{\\sigma_A}{\\sqrt{N_A}} \\approx \\frac{s_A}{\\sqrt{N_A}},\n",
    "\\quad\n",
    "s^2_{A} = \\frac{1}{N_A - 1} \\sum_i (A_i - E[A])^2,  \n",
    "\\\\\n",
    "\\mu_{A_n} \\sim Norm(E[A], \\sigma^2_{\\mu_{A_n}}) .\n",
    "$$\n",
    "\n",
    "Разность нормальных распределений также нормальное распределение. Поэтому разность выборочных средних также можно приближенно считать распределенной нормально \n",
    "\n",
    "$$\n",
    "\\mu_{\\Delta} = \\mu_{A_n} - \\mu_{B_n},\n",
    "\\\\\n",
    "E[\\mu_{\\Delta}] = E[\\mu_{A_n}] - E[\\mu_{B_n}] = E[A] - E[B],\n",
    "\\quad\n",
    "\\sigma_{\\Delta} \\approx s_{\\Delta} = \\sqrt{s_{\\mu_{A_n}}^2 + s_{\\mu_{B_n}}^2},\n",
    "\\\\\n",
    "\\mu_{\\Delta} \\sim Norm(E[\\mu_{\\Delta}], \\sigma^2_{\\Delta}).\n",
    "\\\\\n",
    "$$\n"
   ]
  },
  {
   "cell_type": "markdown",
   "id": "4e0ae8c6",
   "metadata": {},
   "source": [
    "В качестве «случайной величины, распределение которой в предположении нулевой гипотезы известно», выбирают "
   ]
  },
  {
   "cell_type": "markdown",
   "id": "b3ad4d8c",
   "metadata": {},
   "source": [
    "$$\n",
    "t = \\frac{\\mu_{\\Delta} - E[\\mu_{\\Delta}]}{s_{\\Delta}}. \n",
    "$$"
   ]
  },
  {
   "cell_type": "markdown",
   "id": "00e9069c",
   "metadata": {},
   "source": [
    "Если верна нулевая гипотеза, т.е. между группами нет разницы, то $E[\\mu_{\\Delta}] = 0$, а $\\mu_{\\Delta}$ и $s_{\\Delta}$ можно вычислить из сэмплов. При «достаточно большом» размере выборки распределение величины $t$ можно приближенно считать нормальным \n",
    "\n",
    "$$\n",
    "t \\sim Norm(0, 1).\n",
    "$$"
   ]
  },
  {
   "cell_type": "markdown",
   "id": "a54c16f3",
   "metadata": {},
   "source": [
    "Использование нормального распределения $Norm(0, 1)$ для $\\mu_{\\Delta}/s_{\\Delta}$ оправдано при «достаточно большом» размере выборки. Чаще используют $t$-распределение $\\mu_{\\Delta}/s_{\\Delta} \\sim t_{n-1}$ [[TDist](https://en.wikipedia.org/wiki/Student%27s_t-distribution)] или приближение Уэлча [[WelchTTest](https://en.wikipedia.org/wiki/Welch%27s_t-test)]. В таком случае подход называют $t$-тестом [[TTest](https://en.wikipedia.org/wiki/Student's_t-test)]."
   ]
  },
  {
   "cell_type": "markdown",
   "id": "f278ab1b",
   "metadata": {},
   "source": [
    "На конкретных данных пример выглядит следующим образом. Допустим, есть две монетки с разными вероятностями выпадения орла (две серии Бернулли). Нужно выбрать монетку с большей вероятностью. Пусть $N_A, N_B, s_A, s_B$ - количество бросков и орлов в группах $A$ и $B$."
   ]
  },
  {
   "cell_type": "markdown",
   "id": "b7495415",
   "metadata": {},
   "source": [
    "При проведении тестов для контроля за уровнями статистической значимости и мощности размер выборки расчитывают заранее. Выбирают статистическую значимость $\\alpha$, мощность $1 - \\beta$, базовую конверсию, минимальную величину эффекта, по этим значениям рассчитывают размер выборки $N$ в каждой группе. Для сравнения конверсий с помощью $t$-теста при $\\alpha = 0.05$, $\\beta = 0.2$, базовой конверсии $p=0.3$, минимальном относительно размере эффекта $\\Delta = 5 \\%$ размер каждой группы должен быть $\\sim 15000$ [[MillerABSize](https://www.evanmiller.org/ab-testing/sample-size.html#!30;80;5;5;1)]. Возможный способ расчета и обсуждение см. в разделе [«Особенности интерпретации»](#Особенности-интерпретации)."
   ]
  },
  {
   "cell_type": "markdown",
   "id": "42ce9b56",
   "metadata": {},
   "source": [
    "На первом графике ниже приведены средние групп и построены нормальные распределения выборочных средних в предположении центральной предельной теоремы. На втором графике приведено нормальное распределение разности выборочных средних в предположении одинаковых групп, обозначено полученное в эксперименте значение разности и выделены области «достаточно малой» вероятности для отвержения предположения о равенстве групп."
   ]
  },
  {
   "cell_type": "code",
   "execution_count": null,
   "id": "5dcfb890",
   "metadata": {},
   "outputs": [],
   "source": [
    "alpha = 0.05\n",
    "\n",
    "p_a_exact = 0.3\n",
    "p_b_exact = 0.32\n",
    "\n",
    "n = 15000\n",
    "sa = stats.binom.rvs(n, p_a_exact)\n",
    "sb = stats.binom.rvs(n, p_b_exact)\n",
    "\n",
    "p_a = sa/n\n",
    "a_stderr = np.sqrt(p_a * (1 - p_a) / n)\n",
    "\n",
    "p_b = sb/n\n",
    "b_stderr = np.sqrt(p_b * (1 - p_b) / n)\n",
    "\n",
    "x=np.linspace(0, 1, 1000)\n",
    "\n",
    "col_a = 'red'\n",
    "col_b = 'blue'\n",
    "\n",
    "fig = go.Figure()\n",
    "fig.add_trace(go.Scatter(x=[p_a], y=[stats.norm.pdf(p_a, p_a, a_stderr)],\n",
    "                         name='A', marker_color=col_a, mode='markers'))\n",
    "fig.add_trace(go.Scatter(x=x, y=stats.norm.pdf(x, p_a, a_stderr),\n",
    "                         name='CLT A', line_color=col_a, line_dash='dash'))\n",
    "fig.add_trace(go.Scatter(x=[p_b], y=[stats.norm.pdf(p_b, p_b, b_stderr)],\n",
    "                         name='B', line_color=col_b, mode='markers'))\n",
    "fig.add_trace(go.Scatter(x=x, y=stats.norm.pdf(x, p_b, b_stderr),\n",
    "                         name='CLT B', marker_color=col_b, line_dash='dash'))\n",
    "fig.update_layout(\n",
    "    title='Assumed CLT-like Means Distributions',\n",
    "    xaxis_range=[0.2, 0.5],\n",
    "    height=450, width=800\n",
    ")\n",
    "fig.show()\n",
    "\n",
    "\n",
    "#todo: use one-sided test?\n",
    "diff = p_b - p_a\n",
    "diff_stderr = np.sqrt(a_stderr**2 + b_stderr**2)\n",
    "alpha = 0.05\n",
    "x_a_l = stats.norm.ppf(alpha/2, loc=0, scale=diff_stderr)\n",
    "x_a_u = stats.norm.ppf(1-alpha/2, loc=0, scale=diff_stderr)\n",
    "diff_pval = stats.norm.cdf(0, diff, diff_stderr)\n",
    "\n",
    "x=np.linspace(-5*diff_stderr, 5*diff_stderr, 1000)\n",
    "\n",
    "col = 'rgba(0, 0, 250, 0.7)'\n",
    "fig = go.Figure()\n",
    "fig.add_trace(go.Scatter(x=x, y=stats.norm.pdf(x, 0, diff_stderr),\n",
    "                         line_color=col, name='Diff'))\n",
    "fig.add_trace(go.Scatter(x=x[x <= x_a_l], y=stats.norm.pdf(x, 0, diff_stderr)[x <= x_a_l], \n",
    "                         fill='tozeroy',\n",
    "                         name='α/2',\n",
    "                         line_color=col, fillcolor=col))\n",
    "fig.add_trace(go.Scatter(x=x[x >= x_a_u], y=stats.norm.pdf(x, 0, diff_stderr)[x >= x_a_u], \n",
    "                         fill='tozeroy',\n",
    "                         name='1 - α/2',\n",
    "                         line_color=col, fillcolor=col))\n",
    "#fig.add_vline(p_b - p_a)\n",
    "fig.add_trace(go.Scatter(x=[p_b - p_a, p_b - p_a], y=[0, stats.norm.pdf(0, 0, diff_stderr)],\n",
    "                        line_dash='dash', mode='lines', name='(pb-pa)'))\n",
    "fig.update_layout(\n",
    "    title='Approx Means Difference Given H0 is True',\n",
    "    height=450, width=800\n",
    ")\n",
    "fig.show()\n",
    "\n",
    "#todo: use alpha/2 instead of alpha?\n",
    "print(f\"p value = {diff_pval:.3f}\")\n",
    "print(f\"H {'can' if diff_pval < alpha else 'can not'} be rejected\")"
   ]
  },
  {
   "cell_type": "markdown",
   "id": "f9d651c0",
   "metadata": {},
   "source": [
    "$P$-значение «достаточно мало» и согласно методологии проверок гипотез предположение о равенстве групп можно отвергнуть."
   ]
  },
  {
   "cell_type": "markdown",
   "id": "1ab4fd2b",
   "metadata": {},
   "source": [
    "Сравнение описанного выше приближенного варианта с $t$-тестом из SciPy [[SciPyT](https://docs.scipy.org/doc/scipy/reference/generated/scipy.stats.ttest_ind.html)]"
   ]
  },
  {
   "cell_type": "code",
   "execution_count": null,
   "id": "60cf2fc0",
   "metadata": {},
   "outputs": [],
   "source": [
    "def approx_ttest_conv_pval(sa, na, sb, nb):\n",
    "    pa = sa / na\n",
    "    pb = sb / nb\n",
    "    stderr_a = np.sqrt(pa * (1 - pa) / na)\n",
    "    stderr_b = np.sqrt(pb * (1 - pb) / nb)\n",
    "    diff = pb - pa\n",
    "    diff_stderr = np.sqrt(stderr_a**2 + stderr_b**2)\n",
    "    pval = stats.norm.cdf(0, diff, diff_stderr)\n",
    "    return pval\n",
    "\n",
    "def scipy_ttest_conv_pval(sa, na, sb, nb, **kwargs):\n",
    "    a = np.zeros(n)\n",
    "    a[:sa] = 1\n",
    "    b = np.zeros(n)\n",
    "    b[:sb] = 1\n",
    "    t, p = stats.ttest_ind(a, b, equal_var=False, **kwargs)\n",
    "    return p\n",
    "\n",
    "p_a_exact = 0.3\n",
    "p_b_exact = 0.32\n",
    "n = 15000\n",
    "sa = stats.binom.rvs(n, p_a_exact)\n",
    "sb = stats.binom.rvs(n, p_b_exact)\n",
    "\n",
    "print('scipy.stats.ttest_indep p-val:', scipy_ttest_conv_pval(sa, n, sb, n, alternative='less'))\n",
    "print('approx p-val:', approx_ttest_conv_pval(sa, n, sb, n))"
   ]
  },
  {
   "cell_type": "markdown",
   "id": "bef6ab3e",
   "metadata": {},
   "source": [
    "$P$-значения совпадают в 3 десятичных знаках. В приближенном варианте `approx_ttest_conv_pval` считается односторонний тест, поэтому в `stats.ttest_ind` нужно указывать соответстующий параметр (`alternative='less'`). При двухстороннем тесте (`alternative='two-sided'`) $p$-значение будет в два раза выше."
   ]
  },
  {
   "cell_type": "markdown",
   "id": "929f34e7",
   "metadata": {},
   "source": [
    "Описанный подход применим к случайным величинам с произвольным распределением, для которых выполнены условия центральной предельной теоремы. Для скошенных распределений может потребоваться больше данных для ее применимости. Необходимый размер выборки можно оценить с помощью теоремы Берри-Ессеена [[BerEsTheor](https://en.wikipedia.org/wiki/Berry%E2%80%93Esseen_theorem)]. "
   ]
  },
  {
   "cell_type": "markdown",
   "id": "3b3a1150",
   "metadata": {},
   "source": [
    "Помимо $t$-теста есть другие тесты для сравнения распределений и их свойств: тест Колмогорова-Смирнова для распределений [[KSTest](https://en.wikipedia.org/wiki/Kolmogorov%E2%80%93Smirnov_test)], U-тест [[UTest](https://en.wikipedia.org/wiki/Mann%E2%80%93Whitney_U_test)],\n",
    "сравнение медиан [[MedianTest](https://en.wikipedia.org/wiki/Median_test)]. Они не требуют предположения о нормальных распределениях сравниваемых величин. При этом у них те же особенности интерпретации, что и у $t$-теста - см. далее."
   ]
  },
  {
   "cell_type": "markdown",
   "id": "2d59d978",
   "metadata": {},
   "source": [
    "# Особенности интерпретации"
   ]
  },
  {
   "cell_type": "markdown",
   "id": "dc3cfc6b",
   "metadata": {},
   "source": [
    "В А/Б-тесте нужно ответить на следующие вопросы:\n",
    "\n",
    "- Какой вариант лучше и насколько?\n",
    "- Каковы оценки целевой метрики в каждом варианте?\n",
    "- Насколько уверены в оценке?\n",
    "- Сколько должен продолжаться эксперимент?"
   ]
  },
  {
   "cell_type": "markdown",
   "id": "409c0ce2",
   "metadata": {},
   "source": [
    "Метод «проверки статистических гипотез» в описанном выше виде не дает на них прямого ответа."
   ]
  },
  {
   "cell_type": "markdown",
   "id": "053ff326",
   "metadata": {},
   "source": [
    "Для ответа на вопрос «Какой вариант лучше?» и «Насколько уверены в оценке?» подойдет вероятность разности средних больше нуля\n",
    "\n",
    "$$\n",
    "P(\\mu_A - \\mu_B > 0 | data) .\n",
    "$$ "
   ]
  },
  {
   "cell_type": "markdown",
   "id": "11c9d16b",
   "metadata": {},
   "source": [
    "В методе проверки гипотез решение принимается на основе $p$-значения. Оно считается как вероятность получить «фактические или более экстремальные» данные при выполнении нулевой гипотезы $H_0$\n",
    "\n",
    "$$\n",
    "p = P(x \\ge x_{data} | H_0) = P(x \\ge x_{data} | \\mu_A = \\mu_B).\n",
    "$$"
   ]
  },
  {
   "cell_type": "markdown",
   "id": "25577b02",
   "metadata": {},
   "source": [
    "$P$-значение отличается от искомой вероятности $P(\\mu_A - \\mu_B > 0 |data)$. Оно показывает, насколько вероятно получить данные в рамках выбранной гипотезы. При этом его также нельзя интерпретировать как вероятность, что гипотеза $H_0$ верна или не верна $P(x \\ge x_{data} | H_0) \\ne P(H_0 | data)$."
   ]
  },
  {
   "cell_type": "markdown",
   "id": "1231db98",
   "metadata": {},
   "source": [
    "Хотя $P(H_0|data) = P(\\mu_A = \\mu_B | data)$ также отличается от вероятности $P(\\mu_A - \\mu_B > 0 |data)$, оценку $P(H_0|data)$ можно рассмотреть подробнее. В общем случае"
   ]
  },
  {
   "cell_type": "markdown",
   "id": "171c0979",
   "metadata": {},
   "source": [
    "$$\n",
    "P(data | H_0) \\ne P(H_0 | data).\n",
    "$$ "
   ]
  },
  {
   "cell_type": "markdown",
   "id": "cbd5a058",
   "metadata": {},
   "source": [
    "Корректное выражение для оценки вероятности нулевой гипотезы на основе собранных данных можно записать с помощью соотношения Байеса"
   ]
  },
  {
   "cell_type": "markdown",
   "id": "69da42a6",
   "metadata": {},
   "source": [
    "$$\n",
    "P(H_0 | data) = \\frac{P(data | H_0) P(H_0)}{P(data)}\n",
    "= \\frac{P(data | H_0) P(H_0)}{P(data|H_0) P(H_0) + P(data| \\neg H_0) P(\\neg H_0) } .\n",
    "$$"
   ]
  },
  {
   "cell_type": "markdown",
   "id": "2d97df25",
   "metadata": {},
   "source": [
    "Кроме $P(data|H_0)$ в этом соотношении также учитываются $P(H_0)$, $P(data| \\neg H_0)$ и $P(\\neg H_0)$. Т.е. для выбора между гипотезами нужно сравнивать вероятности получить данные в рамках разных гипотез и распространенность самих гипотез [[UU](https://onlinelibrary.wiley.com/doi/book/10.1002/9781118650158)]."
   ]
  },
  {
   "cell_type": "markdown",
   "id": "0ad99c09",
   "metadata": {},
   "source": [
    "Принятие решения без учета других гипотез будет вариантом ошибки игнорирования базового процента [[BaseRateFal](https://en.wikipedia.org/wiki/Base_rate_fallacy)]."
   ]
  },
  {
   "cell_type": "code",
   "execution_count": null,
   "id": "3b13748a",
   "metadata": {},
   "outputs": [],
   "source": [
    "w = 10\n",
    "h = 10\n",
    "h0_w = 2.5/w\n",
    "alpha = 8/h\n",
    "beta=2/h\n",
    "\n",
    "fig = go.Figure()\n",
    "fig.add_trace(go.Scatter(x=[0,0,w,w], y=[0,h,h,0], fill=\"toself\", \n",
    "                         name='Choose H1 & H1')) #name=P(Choose H1 & H1)/P(H1) = 1-β\n",
    "fig.add_trace(go.Scatter(x=[0,0,h0_w*w, h0_w*w], y=[0,h,h,0], fill=\"toself\", \n",
    "                         name='Choose H1 & H0')) #name=', P(Choose H1 & H0)/P(H0) = α'\n",
    "fig.add_trace(go.Scatter(x=[0,0,h0_w*w, h0_w*w], y=[0,alpha*h,alpha*h,0], fill=\"toself\", \n",
    "                         name='Choose H0 & H0')) #, P(Choose H0 & H0)/P(H0) = 1-α\n",
    "fig.add_trace(go.Scatter(x=[h0_w*w,h0_w*w,w,w], y=[0,beta*h,beta*h,0], fill=\"toself\", \n",
    "                         name='Choose H0 & H1')) # , P(Choose H0 & H1)/P(H1) = β\n",
    "fig.add_annotation(x=h0_w/2*w, y=1.1*h,\n",
    "            text=\"H0\",\n",
    "            showarrow=False)\n",
    "fig.add_annotation(x=w/2 + h0_w/2*w, y=1.1*h,\n",
    "            text=\"H1\",\n",
    "            showarrow=False)\n",
    "fig.add_annotation(x=h0_w/2*w, y=(h+alpha*h)/2,\n",
    "            text=\"Choose H1 & H0\",\n",
    "            showarrow=False)\n",
    "fig.add_annotation(x=h0_w/2*w, y=beta*h/2,\n",
    "            text=\"Choose H0 & H0\",\n",
    "            showarrow=False)\n",
    "fig.add_annotation(x=(h0_w*w + w)/2, y=(h+alpha*h)/2,\n",
    "            text=\"Choose H1 & H1\",\n",
    "            showarrow=False)\n",
    "fig.add_annotation(x=(h0_w*w + w)/2, y=beta*h/2,\n",
    "            text=\"Choose H0 & H1\",\n",
    "            showarrow=False)\n",
    "fig.update_layout(\n",
    "    height=450, width=800\n",
    ")\n",
    "fig.show()"
   ]
  },
  {
   "cell_type": "markdown",
   "id": "6fbb713a",
   "metadata": {},
   "source": [
    "По графику видно, что вероятность нулевой гипотезы если было принято решение ее оставить, определяется соотношением"
   ]
  },
  {
   "cell_type": "markdown",
   "id": "59b1328f",
   "metadata": {},
   "source": [
    "$$\n",
    "P(H_0 | \\mbox{Choose }H_0) = \\frac{P(\\mbox{Choose }H_0 \\cap H_0)}{P(\\mbox{Choose }H_0 \\cap H_0) + P(\\mbox{Choose }H_0 \\cap H_1)} = \\frac{\\mbox{Green}}{\\mbox{Green} + \\mbox{Purple}} .\n",
    "$$"
   ]
  },
  {
   "cell_type": "markdown",
   "id": "9c8d407a",
   "metadata": {},
   "source": [
    "Вероятность графически вычисляется как отношение площадей соответствующих прямоугольников. Их высоты определяются значениями $\\alpha$ и $\\beta$. Но площади также зависит от ширины - т.е. от соотношения между вероятностями $P(H_0)$ и $P(H_1)$. Ошибка базового процента состоит в том, что решение принимается только по уровню $\\alpha$ без учета соотношения $P(H_0)$ и $P(H_1)$."
   ]
  },
  {
   "cell_type": "markdown",
   "id": "9c255256",
   "metadata": {},
   "source": [
    "Для характеристики метода можно оценить вероятность корректного выбора гипотезы. Ее можно выразить через вероятности ошибок $\\alpha$ и $\\beta$"
   ]
  },
  {
   "cell_type": "markdown",
   "id": "2c228661",
   "metadata": {},
   "source": [
    "\\begin{align}\n",
    "P(\\mbox{Correct Guess}) & = P(\\mbox{Choose }H_0 | H_0) P(H_0) + P(\\mbox{Choose }H_1 | H_1)P(H_1) \n",
    "\\\\\n",
    "    & = (1 - \\alpha) P(H_0) + (1 - \\beta) P(H_1) .\n",
    "\\end{align}"
   ]
  },
  {
   "cell_type": "markdown",
   "id": "a2cf0901",
   "metadata": {},
   "source": [
    "Видно, что доля правильно выбранных гипотез помимо $\\alpha$ и $\\beta$ зависит также от соотношения между $P(H_0)$ и $P(H_1)$. Если $P(H_1) \\gg P(H_0)$, т.е. команда предлагает хорошие гипотезы, то $P(\\mbox{Correct Guess}) \\approx 1 - \\beta$, если же гипотезы в-основном плохие $P(H_0) \\gg P(H_1)$, то $P(\\mbox{Correct Guess}) \\approx 1 - \\alpha$."
   ]
  },
  {
   "cell_type": "markdown",
   "id": "a1e6c3c1",
   "metadata": {},
   "source": [
    "Хотя в реальном тесте неизвестно, верна гипотеза или нет, соотношение выше можно продемонстрировать на примере. Пусть есть 2 группы. В контрольной среднее значение $\\mu_A = 0.1$ фиксировано. В экспериментальной среднее случайно выбирается из двух вариантов: либо такое же как в контрольной $\\mu_B = \\mu_A$, либо с улучшением на 5%  $\\mu_B = 1.05 \\mu_A$. Первый вариант соответствует реализации нулевой гипотезы $H_0$ о равенстве групп, второй - реализации гипотезы $H_1$ об их различии. Нужно оценить, с какой вероятностью в А/Б-тесте будет выбрана корректная гипотеза. \n",
    "\n",
    "Речь идет не о выборе «лучшей группы» - в этом примере всегда можно выбирать группу B - а о корректном выборе между вариантами $\\mu_A = \\mu_B$ и $\\mu_A \\ne \\mu_B$."
   ]
  },
  {
   "cell_type": "markdown",
   "id": "794d3e7f",
   "metadata": {},
   "source": [
    "На графике построена доля правильно выбранных гипотез при изменении соотношения между вероятностями $P(\\mu_B = \\mu_A)$ и $P(\\mu_B = 1.05\\mu_A)$, т.е. между $P(H_0)$ и $P(H_1)$. Можно ожидать, что при фиксированных $\\alpha$ и $\\beta$ доля будет меняться как $(1 - \\alpha) P(H_0) + (1 - \\beta) P(H_1)$."
   ]
  },
  {
   "cell_type": "markdown",
   "id": "faa0b582",
   "metadata": {},
   "source": [
    "При $\\alpha = 0.05$, $\\beta = 0.2$, $\\Delta_{rel} = 0.05$, $\\mu_A = 0.1$ размер выборки в каждой группе $N \\approx 57000$."
   ]
  },
  {
   "cell_type": "code",
   "execution_count": null,
   "id": "5164de62",
   "metadata": {},
   "outputs": [],
   "source": [
    "mu0 = 0.1\n",
    "mu1 = mu0 * 1.05\n",
    "delta = mu1 - mu0\n",
    "\n",
    "alpha = 0.05\n",
    "beta = 0.2\n",
    "\n",
    "ph0_prob = np.arange(0.01, 1.01, 0.1)\n",
    "ph1_prob = 1 - ph0_prob\n",
    "\n",
    "Nexp = 10000\n",
    "corrguess_pval = []\n",
    "corrguess_pval_theory = []\n",
    "beta_pval = []\n",
    "beta_pval_theory = []\n",
    "alpha_pval = []\n",
    "alpha_pval_theory = []\n",
    "for ph0, ph1 in zip(ph0_prob, ph1_prob):    \n",
    "    mua = np.full(shape=Nexp, fill_value=mu0)\n",
    "    mub = np.random.choice(a=[mu0, mu1], p=[ph0, ph1], size=Nexp)\n",
    "    N = int((np.sqrt(2) * (stats.norm.ppf(1 - alpha/2) - stats.norm.ppf(beta)))**2 * mu0*(1-mu0) / delta**2)\n",
    "    sa = stats.binom.rvs(n=N, p=mua, size=Nexp)\n",
    "    sb = stats.binom.rvs(n=N, p=mub, size=Nexp)\n",
    "    pval = approx_ttest_conv_pval(sa, N, sb, N)\n",
    "    h0 = (mub == mu0)\n",
    "    h1 = (mub != mu0)\n",
    "    reject_h0 = (pval < alpha/2) | (pval > 1 - alpha/2)\n",
    "    keep_h0 = ~reject_h0\n",
    "    corrguess_pval_theory.append((1-alpha)*ph0 + (1-beta)*ph1)\n",
    "    corrguess_pval.append(sum(((keep_h0 & h0) | (reject_h0 & h1)))/Nexp)\n",
    "    beta_pval.append(sum((keep_h0 & h1))/sum(h1))\n",
    "    beta_pval_theory.append(beta)\n",
    "    alpha_pval.append(sum((reject_h0 & h0))/sum(h0))\n",
    "    alpha_pval_theory.append(alpha)\n",
    "    \n",
    "fig = go.Figure()\n",
    "fig.add_trace(go.Scatter(x=ph0_prob, y=corrguess_pval, name='Correct guesses'))\n",
    "fig.add_trace(go.Scatter(x=ph0_prob, y=corrguess_pval_theory, line_dash='dash',\n",
    "                         name='Correct guesses, theory'))\n",
    "fig.add_trace(go.Scatter(x=ph0_prob, y=beta_pval, name='β'))\n",
    "fig.add_trace(go.Scatter(x=ph0_prob, y=beta_pval_theory, line_dash='dash',\n",
    "                         name='β, theory'))\n",
    "fig.add_trace(go.Scatter(x=ph0_prob, y=alpha_pval, name='α'))\n",
    "fig.add_trace(go.Scatter(x=ph0_prob, y=alpha_pval_theory, line_dash='dash',\n",
    "                         name='α, theory'))\n",
    "fig.update_layout(\n",
    "    title='Correctly Chosen Hypotheses and Errors Rates',\n",
    "    yaxis_title='Rate',\n",
    "    xaxis_title='P(H0)',\n",
    "    yaxis_range=[0, 1],\n",
    "    width=800, height=450\n",
    ")\n",
    "fig.show()"
   ]
  },
  {
   "cell_type": "markdown",
   "id": "1cf95a4b",
   "metadata": {},
   "source": [
    "Доля правильно выбранных гипотез и уровни ошибок $\\alpha$ и $\\beta$ такие, как и ожидалось. Видно, что доля зависит от соотношения $P(H_0):P(H_1)$. "
   ]
  },
  {
   "cell_type": "markdown",
   "id": "fd3f6fcb",
   "metadata": {},
   "source": [
    "Можно сравнить количество правильно выбранных гипотез при выборе на основе $p$-значения и вероятности $P(H_0 | data)$. Т.к. гипотез всего две, то можно смотреть отношение $P(H_0 | data):P(H_1 | data)$. Если оно больше $1$, то выбирать $H_0$, если меньше - $H_1$. На основе соотношения Байеса\n",
    "\n",
    "$$\n",
    "\\frac{P(H_0 | data)}{P(H_1 | data)} = \\frac{P(data | H_0) P(H_0)}{P(data | H_1) P(H_1)}.\n",
    "$$"
   ]
  },
  {
   "cell_type": "markdown",
   "id": "86a6ed29",
   "metadata": {},
   "source": [
    "В данном примере $P(data|H_1)$ можно вычислять как $P(data | \\mu_B = 1.05 \\mu_A)$. На практике разница между группами неизвестна, поэтому корректнее было бы использовать $P(data|\\mu_A \\ne \\mu_B)$."
   ]
  },
  {
   "cell_type": "code",
   "execution_count": null,
   "id": "09185496",
   "metadata": {},
   "outputs": [],
   "source": [
    "def ph0_to_ph1_conv(sa, na, sb, nb, ph0, ph1, delta):\n",
    "    pa = sa / na\n",
    "    pb = sb / nb\n",
    "    stderr_a = np.sqrt(pa * (1 - pa) / na)\n",
    "    stderr_b = np.sqrt(pb * (1 - pb) / nb)\n",
    "    diff = pb - pa\n",
    "    diff_stderr = np.sqrt(stderr_a**2 + stderr_b**2)\n",
    "    return stats.norm.pdf(diff, 0, diff_stderr) / stats.norm.pdf(diff, delta, diff_stderr) * ph0 / ph1\n",
    "\n",
    "mu0 = 0.1\n",
    "mu1 = mu0 * 1.05\n",
    "delta = mu1 - mu0\n",
    "\n",
    "alpha = 0.05\n",
    "beta = 0.2\n",
    "\n",
    "ph0_prob = []\n",
    "cg_prob = []\n",
    "cg_prob_factdelta = []\n",
    "cg_pval = []\n",
    "cg_pval_theory = []\n",
    "for ph0 in np.arange(0.01, 1.01, 0.1):\n",
    "    ph1 = 1-ph0\n",
    "    ph0_prob.append(ph0)    \n",
    "    Nexp = 10000\n",
    "    mua = np.array([mu0] * Nexp)\n",
    "    mub = np.random.choice(a=[mu0, mu1], p=[ph0, ph1], size=Nexp)\n",
    "    N = int((np.sqrt(2) * (stats.norm.ppf(1 - alpha/2) - stats.norm.ppf(beta)))**2 * mu0*(1-mu0) / delta**2)\n",
    "    sa = stats.binom.rvs(n=N, p=mua, size=Nexp)\n",
    "    sb = stats.binom.rvs(n=N, p=mub, size=Nexp)\n",
    "    pval = approx_ttest_conv_pval(sa, N, sb, N)\n",
    "    p_h0_to_h1_data = ph0_to_ph1_conv(sa=sa, na=N, sb=sb, nb=N, ph0=ph0, ph1=ph1, delta=delta)\n",
    "    h0_data = p_h0_to_h1_data > 1\n",
    "    h1_data = ~h0_data\n",
    "    h0 = (mub == mu0)\n",
    "    h1 = (mub != mu0)\n",
    "    reject_h0 = (pval < alpha/2) | (pval > 1 - alpha/2)\n",
    "    keep_h0 = ~reject_h0\n",
    "    cg_pval_theory.append((1-alpha)*ph0 + (1-beta)*ph1)\n",
    "    cg_pval.append(sum(((keep_h0 & h0) | (reject_h0 & h1)))/Nexp)\n",
    "    cg_prob.append(sum(((h0_data & h0) | (h1_data & h1)))/Nexp)\n",
    "\n",
    "    \n",
    "fig = go.Figure()\n",
    "fig.add_trace(go.Scatter(x=ph0_prob, y=cg_prob, name='P(H0)'))\n",
    "fig.add_trace(go.Scatter(x=ph0_prob, y=cg_pval, name='p-val'))\n",
    "fig.add_trace(go.Scatter(x=ph0_prob, y=cg_pval_theory, line_dash='dash',\n",
    "                         name='p-val theory'))\n",
    "fig.update_layout(\n",
    "    title='Correct Guesses by p-val and P(H0)',\n",
    "    yaxis_title='Prob',\n",
    "    xaxis_title='P(H0)',\n",
    "    yaxis_range=[0, 1],\n",
    "    width=800, height=450\n",
    ")\n",
    "fig.show()"
   ]
  },
  {
   "cell_type": "markdown",
   "id": "1ed91c2c",
   "metadata": {},
   "source": [
    "В данном случае выбор группы по вероятности работает лучше. Частично это обусловлено тем, что модель использует дополнительную информацию о точном значении $\\Delta$, игнорируемую в проверке гипотез."
   ]
  },
  {
   "cell_type": "markdown",
   "id": "bc82900f",
   "metadata": {},
   "source": [
    "В примере выше были известны вероятности $P(H_0)$ и $P(H_1)$, а для $P(data|H_1)$ можно было ограничиться значением $P(data | \\mu_B = 1.05 \\mu_A)$. На практике соотношение $P(H_0):P(H_1)$ и размер эффекта неизвестны. Расчет $P(H_0 | data)$ потребует предположений, которые будут сдвигать подход в сторону байесовского моделирования - проще использовать его изначально."
   ]
  },
  {
   "cell_type": "markdown",
   "id": "d81e8c72",
   "metadata": {},
   "source": [
    "Метод проверки гипотез формально не дает ответ на вопрос о «величине эффекта» и оценках «целевой метрики в каждом варианте». Для оценки средних вместо распределений $P(\\mu_A - \\mu_B | data)$, $P(\\mu_A | data)$, $P(\\mu_B | data)$ обычно используют доверительные интервалы [[ConfInt](https://en.wikipedia.org/wiki/Confidence_interval)]. Например, для $E[A]$ строятся величины $l_n$, $u_n$, такие что\n",
    "\n",
    "$$\n",
    "l_n, u_n: P(l_n < E[A] < u_n | data) = 1 - \\alpha .\n",
    "$$"
   ]
  },
  {
   "cell_type": "markdown",
   "id": "edf15c19",
   "metadata": {},
   "source": [
    "Для средних границы интервала $l_n$, $u_n$ строят на основе центральной предельной теоремы  "
   ]
  },
  {
   "cell_type": "markdown",
   "id": "a31f4c46",
   "metadata": {},
   "source": [
    "$$\n",
    "P\\left(l_n < \\frac{\\mu_{A_n} - E[A]}{\\sigma_A/\\sqrt{N_A}} < u_n \\right) \n",
    "\\to \n",
    "\\frac{1}{2 \\pi} \\int_{l_n}^{u_n} e^{-t^2/2} dt .\n",
    "$$"
   ]
  },
  {
   "cell_type": "markdown",
   "id": "0340fb77",
   "metadata": {},
   "source": [
    "В доверительных интервалах случайные величины - границы интервала, а не сам оцениваемый параметр."
   ]
  },
  {
   "cell_type": "markdown",
   "id": "89022f51",
   "metadata": {},
   "source": [
    "В байесовском моделировании конверсий с биномиальным распределением как функцией правдоподобия и равномерным априорным распределением апостериорное распределение будет бета-распределением $P(x | data) = Beta(x; \\alpha, \\beta)$, $\\alpha = s + 1$, $\\beta = N - s + 1$. При большом количестве точек оно приближенно совпадает с нормальным\n",
    "\n",
    "$$\n",
    "P(x | data) \\sim Norm\\left( x; p, \\frac{p(1-p)}{N} \\right) .\n",
    "$$\n",
    "\n",
    "Поэтому в данном случае интервалы наибольшей плотности вероятности, получаемые в рамках байесовского моделирования, численно будут близки к доверительным интервала, несмотря на иную интерпретацию."
   ]
  },
  {
   "cell_type": "markdown",
   "id": "20810e6f",
   "metadata": {},
   "source": [
    "Доверительные интервалы не гарантируют, что «с 95% вероятностью точное среднее значение будет внутри построенного интервала». Частотная интерпретация доверительных итервалов - если повторить эксперимент и процедуру построения 95-процентного доверительного интервала 100 раз, примерно в 95 случаях из 100 реальное среднее будет находится внутри построенного интервала (см. график ниже).  "
   ]
  },
  {
   "cell_type": "code",
   "execution_count": null,
   "id": "1f6d6442",
   "metadata": {},
   "outputs": [],
   "source": [
    "p = 0.6\n",
    "\n",
    "n_exp = 100\n",
    "N = 1000\n",
    "s = stats.binom.rvs(n=N, p=p, size=n_exp)\n",
    "p_mean = s / N\n",
    "p_stderr = np.sqrt(p_mean * (1 - p_mean) / N)\n",
    "alpha = 0.05\n",
    "x_a_l = stats.norm.ppf(alpha/2, loc=p_mean, scale=p_stderr)\n",
    "x_a_u = stats.norm.ppf(1-alpha/2, loc=p_mean, scale=p_stderr)\n",
    "\n",
    "fig = go.Figure()\n",
    "fig.add_hline(p)\n",
    "missed = 0\n",
    "for x, l, u in zip(range(1, N+1), x_a_l, x_a_u):\n",
    "    col = 'black'\n",
    "    if u < p or l > p:\n",
    "        col = 'blue'\n",
    "        missed += 1\n",
    "    fig.add_trace(go.Scatter(x=[x,x], y=[l, u], mode='lines+markers', \n",
    "                             line_color=col))\n",
    "fig.update_layout(\n",
    "    title='Confidence Intervals',\n",
    "    xaxis_title='Experiment #',\n",
    "    yaxis_title='p',\n",
    "    showlegend=False,\n",
    "    height=450, width=800\n",
    ")\n",
    "fig.show()\n",
    "\n",
    "print(f\"In {n_exp} experiments, {missed} {1-alpha}-intervals failed to cover exact mean value.\")"
   ]
  },
  {
   "cell_type": "markdown",
   "id": "edba9c94",
   "metadata": {},
   "source": [
    "На графике выше видно, что по отдельно взятому доверительному интервалу нельзя сказать, где именно в нем находится среднее и попадает ли оно в этот интервал. Байесовский интервал наибольше плотности вероятности сталкивается с той же проблемой."
   ]
  },
  {
   "cell_type": "markdown",
   "id": "db428987",
   "metadata": {},
   "source": [
    "Хотя для средних доверительные интервалы совпадают с байесовскими интервалами наибольшей плотности вероятности, в других случаях они могут отличаться [[ConfIntVsBsInt](https://bayes.wustl.edu/etj/articles/confidence.pdf), [CIFal](https://www.ncbi.nlm.nih.gov/pmc/articles/PMC4742505/pdf/13423_2015_Article_947.pdf)]."
   ]
  },
  {
   "cell_type": "markdown",
   "id": "1be62f7e",
   "metadata": {},
   "source": [
    "Таким образом, основные сложности с доверительными интервалами для средних технические - используется две случайных величины вместо одной и для них нет распределений в явном виде."
   ]
  },
  {
   "cell_type": "markdown",
   "id": "174c2032",
   "metadata": {},
   "source": [
    "Для оценки «длительности эксперимента» размер выборки рассчитывают до эксперимента так, чтобы обеспечить уровни статистической значимости $\\alpha$ и мощности $1 - \\beta$. Выше было показано, что $\\alpha$ и $\\beta$ не достаточно для определения $P(\\mu_A > \\mu_B | data)$ и $P(H_0 | data)$. Тем не менее, можно рассмотреть механику оценки размера выборки подробнее. "
   ]
  },
  {
   "cell_type": "markdown",
   "id": "5850a1c2",
   "metadata": {},
   "source": [
    "Для оценки длительности задают статистическую значимость, мощность, базовую величину и изменение эффекта, по этим значениям рассчитывают размер выборки $N$ в каждой группе. Для $t$-тестов для оценки $N$ находят точку $x_{\\alpha \\beta}$ такую, что $P(x \\ge x_{\\alpha \\beta} | H_0) = \\alpha$ и $P(x \\le x_{\\alpha \\beta} | H_{\\Delta}) = \\beta$."
   ]
  },
  {
   "cell_type": "code",
   "execution_count": null,
   "id": "883d49ae",
   "metadata": {},
   "outputs": [],
   "source": [
    "mu = 0\n",
    "scale = 0.2\n",
    "delta = 0.5\n",
    "\n",
    "x = np.arange(-3, 3, 0.01)\n",
    "y0 = stats.norm.pdf(x, loc=mu, scale=scale)\n",
    "y1 = stats.norm.pdf(x, loc=mu+delta, scale=scale)\n",
    "\n",
    "a = 0.05\n",
    "x_ab = stats.norm.ppf(1-alpha, loc=mu, scale=scale)\n",
    "\n",
    "col0 = 'rgba(250, 0, 0, 0.7)'\n",
    "col1 = 'rgba(0, 0, 250, 0.7)'\n",
    "\n",
    "fig = go.Figure()\n",
    "fig.add_trace(go.Scatter(x=x, y=y1, line_color=col1, name='HΔ'))\n",
    "fig.add_trace(go.Scatter(x=x[x<=x_ab], y=y1[x<=x_ab], \n",
    "                         fill='tozeroy', \n",
    "                         line_color=col1, fillcolor=col1,\n",
    "                         name='β'))\n",
    "fig.add_vline(x_ab)\n",
    "fig.add_trace(go.Scatter(x=x, y=y0, line_color=col0, name='H0'))\n",
    "fig.add_trace(go.Scatter(x=x[x>=x_ab], y=y0[x>=x_ab], \n",
    "                         fill='tozeroy', \n",
    "                         line_color=col0, fillcolor=col0,\n",
    "                         name='α'))\n",
    "fig.update_layout(\n",
    "    xaxis_range=(-2, 2),\n",
    "    height=450, width=800\n",
    ")\n",
    "\n",
    "fig.show()"
   ]
  },
  {
   "cell_type": "markdown",
   "id": "b3e2853e",
   "metadata": {},
   "source": [
    "Выражение для размера выборки $N$\n",
    "\n",
    "$$\n",
    "CDF_{Norm(0,1)} \\left( (x_{\\alpha \\beta} - \\mu_{H_0})/\\sigma_{H_0} \\right) = 1 - \\alpha,\n",
    "\\quad\n",
    "CDF_{Norm(0,1)} \\left( (x_{\\alpha \\beta} - \\mu_{H_\\Delta})/\\sigma_{H_{\\Delta}} \\right) = \\beta \n",
    "\\\\\n",
    "\\mu_{H_0} + \\sigma_{H_0} CDF_{Norm(0,1)}^{-1}(1 - \\alpha) = \\mu_{H_\\Delta} + \\sigma_{H_{\\Delta}} CDF_{Norm(0,1)}^{-1}(\\beta),\n",
    "\\\\\n",
    "\\mu_{H_0} = 0, \n",
    "\\quad \n",
    "\\mu_{H_\\Delta} = \\Delta,\n",
    "\\quad\n",
    "\\sigma_{H_0} = \\sigma_{H_{\\Delta}} \\approx \\sqrt{2}\\frac{s}{\\sqrt{N}},\n",
    "\\\\\n",
    "N = \\left[ \\frac{s}{\\Delta} \\sqrt{2} \\left( CDF_{Norm(0,1)}^{-1}(1 - \\alpha) - CDF_{Norm(0,1)}^{-1}(\\beta) \\right) \\right]^2 .\n",
    "$$"
   ]
  },
  {
   "cell_type": "code",
   "execution_count": null,
   "id": "e46d1134",
   "metadata": {},
   "outputs": [],
   "source": [
    "def approx_t_sample_size(stderr, delta, alpha, beta):\n",
    "    c = np.sqrt(2) * (stats.norm.ppf(1 - alpha) - stats.norm.ppf(beta))\n",
    "    return np.ceil((c * stderr / delta)**2).astype(int)\n",
    "\n",
    "p = 0.1\n",
    "p_stderr = np.sqrt(p * (1-p))\n",
    "approx_t_sample_size(stderr=p_stderr, delta=0.005, alpha=0.025, beta=0.2)"
   ]
  },
  {
   "cell_type": "markdown",
   "id": "3d7fa980",
   "metadata": {},
   "source": [
    "При $(1 - \\alpha) = 0.975$, $\\beta = 0.2$ приближенно [[StPower](https://en.wikipedia.org/wiki/Power_of_a_test#Rule_of_thumb)]\n",
    "\n",
    "$$\n",
    "N = 16 \\frac{s^2}{\\Delta^2} . \n",
    "$$"
   ]
  },
  {
   "cell_type": "markdown",
   "id": "9025a0a6",
   "metadata": {},
   "source": [
    "Проблема такого подхода в том, что реальный размер эффекта неизвестен. Если реальный эффект больше ожидаемого, размер выборки будет завышаться. Если меньше - посчитанный размер выборки не будет обеспечивать нужный уровень статистической значимости и мощности. Проблему решают предположением нескольких значений эффекта и оценкой размера выборки для каждого. Используют такую выборку, при которой предполагаемый эффект меньше нижней границы доверительного интервала разности, посчитанного по небольшой части экспериментальных точек. Это не формальный метод и он ведет к приближенным уровням статистической значимости и мощности."
   ]
  },
  {
   "cell_type": "markdown",
   "id": "3dcf756e",
   "metadata": {},
   "source": [
    "Можно получить несколько меньшую оценку размера выборки, если вместо гипотезы $\\mu_B = \\mu_A + \\Delta$ рассматривать $\\mu_B \\gt \\mu_A + \\Delta$. При этом оценку для $\\mu_B = \\mu_A + \\Delta$ можно считать оценкой сверху для $\\mu_B \\gt \\mu_A + \\Delta$."
   ]
  },
  {
   "cell_type": "markdown",
   "id": "5156cb0d",
   "metadata": {},
   "source": [
    "Принятие решения по выборке меньшего размера, чем требуется для обеспечения заданных уровней статистической значимости и мощности, называют «проблемой подглядывания» [[MillerHowNotTo](https://www.evanmiller.org/how-not-to-run-an-ab-test.html)]."
   ]
  },
  {
   "cell_type": "markdown",
   "id": "1ded2aa4",
   "metadata": {},
   "source": [
    "Выше при моделировании числа корректно угаданных вариантов было показано, что описанный способ оценки размера выборки действительно дает заданные значения $\\alpha$ и $\\beta$ когда есть только 2 варианта. Оценка специфична для $t$-теста. Для других тестов оценки должны делаться из других соображений.  "
   ]
  },
  {
   "cell_type": "markdown",
   "id": "f399adde",
   "metadata": {},
   "source": [
    "# Заключение"
   ]
  },
  {
   "cell_type": "markdown",
   "id": "70cebcc5",
   "metadata": {},
   "source": [
    "Приведен обзор метода проверок статистических гипотез для оценки А/Б-тестов. Рассмотрено использование $t$-тестов для сравнения средних в группах. Обсуждено, как в рамках метода ответить на вопросы «Какой вариант лучше и насколько?», «Каковы оценки целевой метрики в каждом варианте?», «Насколько уверены в оценке?», «Сколько должен продолжаться эксперимент?».\n",
    "\n",
    "$P$-значение не дает ответа на вопрос какая группа лучше и какая в этом уверенность. Принятие решения без учета альтернативных гипотез и их вероятностей будет вариантом ошибки базового процента.\n",
    "\n",
    "Доверительные интервалы, построенные по одной выборке, в общем случае не позволяют делать выводы о значении оцениваемого параметра. Для конверсий при больших размерах выборки доверительные интервалы для средних на основе центральной предельной теоремы численно будут близки к байесовским интервалам наибольшей плотности вероятности.  \n",
    "\n",
    "Для оценки длительности эксперимента размер выборки оценивается так, чтобы «ошибки первого и второго рода» не превышали заданных уровней. Уровней ошибок не достаточно для определения $P(\\mu_A > \\mu_B | data)$. На практике размер эффекта заранее неизвестен, что приводит к приближенным оценкам размера выборки, статистической значимости и мощности. Метод расчета размера выборки свой для каждого теста.\n",
    "\n",
    "Попытки последовательно ответить на вопросы А/Б тестов с помощью проверки статистических гипотез будет сдвигать подход в сторону байесовского моделирования - лучше использовать его изначально."
   ]
  },
  {
   "cell_type": "markdown",
   "id": "18df40ed",
   "metadata": {},
   "source": [
    "# Благодарности"
   ]
  },
  {
   "cell_type": "markdown",
   "id": "52de6c92",
   "metadata": {},
   "source": [
    "# Ссылки"
   ]
  },
  {
   "cell_type": "markdown",
   "id": "69775717",
   "metadata": {},
   "source": [
    "[[StTest](https://en.wikipedia.org/wiki/Statistical_hypothesis_testing)] - Statistical hypothesis testing, *Wikipedia.*  \n",
    "[[TestStat](https://en.wikipedia.org/wiki/Test_statistic)] - Test statistic, *Wikipedia.*  \n",
    "[[TailedTests](https://en.wikipedia.org/wiki/One-_and_two-tailed_tests)] - One- and two-tailed tests, *Wikipedia.*   \n",
    "[[PVal](https://en.wikipedia.org/wiki/P-value)] - P-value, *Wikipedia.*  \n",
    "[[FairCoin](https://en.wikipedia.org/wiki/Checking_whether_a_coin_is_fair)] - Checking whether a coin is fair, *Wikipedia.*   \n",
    "[[StErrors](https://en.wikipedia.org/wiki/Type_I_and_type_II_errors)] - Type I and type II errors, *Wikipedia.*   \n",
    "[[StSign](https://en.wikipedia.org/wiki/Statistical_significance)] - Statistical significance, *Wikipedia.*  \n",
    "[[StPower](https://en.wikipedia.org/wiki/Power_of_a_test)] - Power of a test, *Wikipedia.*  \n",
    "[[HNull](https://en.wikipedia.org/wiki/Null_hypothesis)] - Null hypothesis, *Wikipedia.*  \n",
    "[[StdErr](https://en.wikipedia.org/wiki/Standard_error)] - Standard error, *Wikipedia.*   \n",
    "[[CLT](https://en.wikipedia.org/wiki/Central_limit_theorem)] - Central limit theorem, *Wikipedia.*   \n",
    "[[TDist](https://en.wikipedia.org/wiki/Student%27s_t-distribution)] - Student's t-distribution, *Wikipedia.*     \n",
    "[[TTest](https://en.wikipedia.org/wiki/Student's_t-test)] - Student's t-test, *Wikipedia.*      \n",
    "[[WelchTTest](https://en.wikipedia.org/wiki/Welch%27s_t-test)] - Welch's t-test, *Wikipedia.*  \n",
    "[[MillerABSize](https://www.evanmiller.org/ab-testing/sample-size.html)] - E. Miller, Sample Size Calculator, *Evan's Awesome A/B Tools.*     \n",
    "[[SciPyT](https://docs.scipy.org/doc/scipy/reference/generated/scipy.stats.ttest_ind.html)] - scipy.stats.ttest_ind, *SciPy Reference.*    \n",
    "[[BerEsTheor](https://en.wikipedia.org/wiki/Berry%E2%80%93Esseen_theorem)] - Berry-Esseen theorem, *Wikipedia.*   \n",
    "[[KSTest](https://en.wikipedia.org/wiki/Kolmogorov%E2%80%93Smirnov_test)] - Kolmogorov-Smirnov test, *Wikipedia.*  \n",
    "[[UTest](https://en.wikipedia.org/wiki/Mann%E2%80%93Whitney_U_test)] - Mann-Whitney U-test, *Wikipedia.*   \n",
    "[[MedianTest](https://en.wikipedia.org/wiki/Median_test)] - Median test, *Wikipedia.*    \n",
    "[[UU](https://onlinelibrary.wiley.com/doi/book/10.1002/9781118650158)] - D.V. Lindley, *Understanding Uncertainty* (2013).    \n",
    "[[BaseRateFal](https://en.wikipedia.org/wiki/Base_rate_fallacy)] - Base rate fallacy, *Wikipedia.*  \n",
    "[[ConfInt](https://en.wikipedia.org/wiki/Confidence_interval)] - Confidence interval, *Wikipedia.*   \n",
    "[[ConfIntVsBsInt](https://bayes.wustl.edu/etj/articles/confidence.pdf)] - E.T. Jaynes, Confidence Intervals vs Bayesian Intervals, in *Foundations of Probability Theory, Statistical Inference, and Statistical Theories of Science* (1976).    \n",
    "[[CIFal](https://www.ncbi.nlm.nih.gov/pmc/articles/PMC4742505/pdf/13423_2015_Article_947.pdf)] - Morey, R.D., Hoekstra, R., Rouder, J.N. et al. The fallacy of placing confidence in confidence intervals. *Psychon Bull Rev 23, 103–123* (2016).    \n",
    "[[MillerHowNotTo](https://www.evanmiller.org/how-not-to-run-an-ab-test.html)] - E. Miller, How not to run an A/B test, *www.evanmiller.org* (2010).    "
   ]
  }
 ],
 "metadata": {
  "kernelspec": {
   "display_name": "Python 3 (ipykernel)",
   "language": "python",
   "name": "python3"
  },
  "language_info": {
   "codemirror_mode": {
    "name": "ipython",
    "version": 3
   },
   "file_extension": ".py",
   "mimetype": "text/x-python",
   "name": "python",
   "nbconvert_exporter": "python",
   "pygments_lexer": "ipython3",
   "version": "3.11.2"
  }
 },
 "nbformat": 4,
 "nbformat_minor": 5
}
