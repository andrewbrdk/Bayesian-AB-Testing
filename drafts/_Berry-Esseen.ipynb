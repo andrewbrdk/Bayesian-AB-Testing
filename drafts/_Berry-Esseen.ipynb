{
 "cells": [
  {
   "cell_type": "markdown",
   "id": "cf25b00a",
   "metadata": {},
   "source": [
    "# Берри-Эссеен"
   ]
  },
  {
   "cell_type": "code",
   "execution_count": 1,
   "id": "6305af86",
   "metadata": {},
   "outputs": [],
   "source": [
    "import numpy as np\n",
    "import pandas as pd\n",
    "import scipy.stats as stats\n",
    "import plotly.graph_objects as go\n",
    "\n",
    "from collections import namedtuple\n",
    "\n",
    "np.random.seed(7)"
   ]
  },
  {
   "cell_type": "markdown",
   "id": "d77c4385",
   "metadata": {},
   "source": [
    "https://en.wikipedia.org/wiki/Berry%E2%80%93Esseen_theorem"
   ]
  },
  {
   "cell_type": "code",
   "execution_count": null,
   "id": "1c2f9a0f",
   "metadata": {},
   "outputs": [],
   "source": [
    "def berry_esseen_n(data, diff=0.05):\n",
    "    C = 0.5\n",
    "    s = data.std()\n",
    "    rho = stats.moment(data, moment=3)\n",
    "    n = int(((C * rho) / (s**3 * diff))**2)\n",
    "    return n\n",
    "\n",
    "nsample = 3000\n",
    "\n",
    "a = 4\n",
    "b = 2\n",
    "exact_dist = stats.gamma(a=a, scale=1/b)\n",
    "data = exact_dist.rvs(nsample)\n",
    "\n",
    "print('gamma N', berry_esseen_n(data))\n",
    "\n",
    "#lomax\n",
    "c = 5\n",
    "exact_dist = stats.lomax(c=c)\n",
    "data = exact_dist.rvs(nsample)\n",
    "\n",
    "print('lomax N', berry_esseen_n(data, diff=0.03))\n",
    "\n",
    "\n",
    "# nsplit = 30\n",
    "# means = reshape_and_compute_means(data, nsplit)\n",
    "# clt_dist_exact = exact_clt_dist(exact_dist, nsplit)\n",
    "# #clt_dist_samp = sample_clt_dist(means)\n",
    "# # todo: avoid setting from data\n",
    "# sx = np.std(means)\n",
    "# mu0 = means[0]\n",
    "# sigma0 = sx\n",
    "# pars = initial_params_normal(mu=mu0, sigma=sigma0, sx=sx)\n",
    "# pars = posterior_params_normal(means[1:], pars)\n",
    "# post_mu = posterior_mu_dist(pars)\n",
    "# post_samp = posterior_rvs(pars, npostsamp)"
   ]
  },
  {
   "cell_type": "code",
   "execution_count": null,
   "id": "3c5e1b7c",
   "metadata": {},
   "outputs": [],
   "source": []
  },
  {
   "cell_type": "code",
   "execution_count": 5,
   "id": "8a28218a",
   "metadata": {},
   "outputs": [
    {
     "data": {
      "text/plain": [
       "(1.1363636363636367, inf, nan, nan)"
      ]
     },
     "execution_count": 5,
     "metadata": {},
     "output_type": "execute_result"
    }
   ],
   "source": [
    "c = 1.88\n",
    "mean, var, skew, kurt = stats.lomax.stats(c, moments='mvsk')\n",
    "mean, var, skew, kurt"
   ]
  },
  {
   "cell_type": "code",
   "execution_count": 6,
   "id": "e15bb443",
   "metadata": {},
   "outputs": [],
   "source": [
    "c = 1.7\n",
    "sample_len = 500\n",
    "n_samples = 1000\n",
    "\n",
    "exact_dist = stats.lomax(c=c)\n",
    "samp = exact_dist.rvs(size=(n_samples, sample_len))\n",
    "means = np.array([x.mean() for x in samp])\n",
    "clt_mu = exact_dist.mean()\n",
    "clt_stdev = exact_dist.std() / np.sqrt(sample_len)\n",
    "means_stdev = means.std()"
   ]
  },
  {
   "cell_type": "code",
   "execution_count": 8,
   "id": "9d049e27",
   "metadata": {},
   "outputs": [
    {
     "data": {
      "text/plain": [
       "inf"
      ]
     },
     "execution_count": 8,
     "metadata": {},
     "output_type": "execute_result"
    }
   ],
   "source": [
    "clt_stdev"
   ]
  }
 ],
 "metadata": {
  "kernelspec": {
   "display_name": "Python 3 (ipykernel)",
   "language": "python",
   "name": "python3"
  },
  "language_info": {
   "codemirror_mode": {
    "name": "ipython",
    "version": 3
   },
   "file_extension": ".py",
   "mimetype": "text/x-python",
   "name": "python",
   "nbconvert_exporter": "python",
   "pygments_lexer": "ipython3",
   "version": "3.11.2"
  }
 },
 "nbformat": 4,
 "nbformat_minor": 5
}
